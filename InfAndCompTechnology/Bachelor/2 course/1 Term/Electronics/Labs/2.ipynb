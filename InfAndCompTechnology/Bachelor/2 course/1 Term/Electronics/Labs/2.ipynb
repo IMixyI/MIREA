{
 "cells": [
  {
   "metadata": {},
   "cell_type": "markdown",
   "source": "**Лабораторная работа №2**",
   "id": "e367c5dce6f45a98"
  },
  {
   "cell_type": "code",
   "id": "initial_id",
   "metadata": {
    "collapsed": true,
    "ExecuteTime": {
     "end_time": "2024-10-25T19:58:11.455013Z",
     "start_time": "2024-10-25T19:58:11.451752Z"
    }
   },
   "source": "import numpy as np",
   "outputs": [],
   "execution_count": 7
  },
  {
   "metadata": {},
   "cell_type": "markdown",
   "source": "**RL**",
   "id": "f65d843c03c93a70"
  },
  {
   "metadata": {
    "ExecuteTime": {
     "end_time": "2024-10-25T19:58:11.519339Z",
     "start_time": "2024-10-25T19:58:11.516525Z"
    }
   },
   "cell_type": "code",
   "source": [
    "L = 0.72\n",
    "C = 103\n",
    "R = 57\n",
    "f_start = 5.7"
   ],
   "id": "a386cb2a93a34a75",
   "outputs": [],
   "execution_count": 8
  },
  {
   "metadata": {
    "ExecuteTime": {
     "end_time": "2024-10-25T19:58:11.551563Z",
     "start_time": "2024-10-25T19:58:11.547057Z"
    }
   },
   "cell_type": "code",
   "source": [
    "F = np.ones(6)\n",
    "F[0] = f_start\n",
    "for i in range(1,6):\n",
    "    F[i] = f_start*2*i\n",
    "\n",
    "for i in range(6):\n",
    "    print(f\"{int(F[i]/f_start)}fнач = {F[i]}\")"
   ],
   "id": "bc11ca0c3ec3ad2b",
   "outputs": [
    {
     "name": "stdout",
     "output_type": "stream",
     "text": [
      "1fнач = 5.7\n",
      "2fнач = 11.4\n",
      "4fнач = 22.8\n",
      "6fнач = 34.2\n",
      "8fнач = 45.6\n",
      "10fнач = 57.0\n"
     ]
    }
   ],
   "execution_count": 9
  }
 ],
 "metadata": {
  "kernelspec": {
   "display_name": "Python 3",
   "language": "python",
   "name": "python3"
  },
  "language_info": {
   "codemirror_mode": {
    "name": "ipython",
    "version": 2
   },
   "file_extension": ".py",
   "mimetype": "text/x-python",
   "name": "python",
   "nbconvert_exporter": "python",
   "pygments_lexer": "ipython2",
   "version": "2.7.6"
  }
 },
 "nbformat": 4,
 "nbformat_minor": 5
}
