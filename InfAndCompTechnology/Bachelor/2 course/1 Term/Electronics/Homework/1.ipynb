{
 "cells": [
  {
   "metadata": {
    "ExecuteTime": {
     "end_time": "2024-10-25T19:07:10.421483Z",
     "start_time": "2024-10-25T19:07:10.417679Z"
    }
   },
   "cell_type": "code",
   "source": [
    "def print_array(arr):\n",
    "    for i in arr:\n",
    "        print(i, end=\" \")\n",
    "\n",
    "def delta(p_ist, p_potr):\n",
    "    return abs(p_ist - p_potr)/p_ist"
   ],
   "id": "abb8e8594f1b85ef",
   "outputs": [],
   "execution_count": 76
  },
  {
   "metadata": {},
   "cell_type": "markdown",
   "source": "**Впишите сюда свои данные**",
   "id": "c9800fa6b626a31f"
  },
  {
   "metadata": {
    "ExecuteTime": {
     "end_time": "2024-10-25T19:07:10.514636Z",
     "start_time": "2024-10-25T19:07:10.510882Z"
    }
   },
   "cell_type": "code",
   "source": [
    "import numpy as np\n",
    "R = np.zeros(6)\n",
    "# decrement index!!!\n",
    "R[0] = 73\n",
    "R[1] = 84\n",
    "R[2] = 58\n",
    "R[3] = 93\n",
    "R[4] = 77\n",
    "R[5] = 50\n",
    "\n",
    "E = np.zeros(6)\n",
    "# decrement index!!!!!\n",
    "E[3] = 11\n",
    "E[5] = 4"
   ],
   "id": "a18e5d17958ca508",
   "outputs": [],
   "execution_count": 77
  },
  {
   "metadata": {},
   "cell_type": "markdown",
   "source": "**Кирхгоф**",
   "id": "fd57de6dfc811419"
  },
  {
   "metadata": {
    "ExecuteTime": {
     "end_time": "2024-10-25T19:07:10.522653Z",
     "start_time": "2024-10-25T19:07:10.515642Z"
    }
   },
   "cell_type": "code",
   "source": [
    "A = np.array([\n",
    "    [1, 0, 0, 1, 0, 1],\n",
    "    [1, 1, 1, 0, 0, 0],\n",
    "    [0, 0, 1, 0, -1, -1],\n",
    "    [R[0], -R[1], 0, -R[3], 0, 0],\n",
    "    [0, R[1], -R[2], 0, -R[4], 0],\n",
    "    [0, 0, 0, R[3], R[4], -R[5]]\n",
    "])\n",
    "B = np.array([\n",
    "    0,\n",
    "    0,\n",
    "    0,\n",
    "    E[0] - E[1] - E[3],\n",
    "    E[1] - E[2] - E[4],\n",
    "    E[3] + E[4] - E[5]\n",
    "])\n",
    "C = np.linalg.solve(A, B)\n",
    "print(\"Ваши токи\")\n",
    "for i in range(6):\n",
    "    print(f\"I{i+1} = {round(C[i],4)}\")"
   ],
   "id": "843db1f7a1258886",
   "outputs": [
    {
     "name": "stdout",
     "output_type": "stream",
     "text": [
      "Ваши токи\n",
      "I1 = -0.0468\n",
      "I2 = 0.0312\n",
      "I3 = 0.0157\n",
      "I4 = 0.0534\n",
      "I5 = 0.0222\n",
      "I6 = -0.0065\n"
     ]
    }
   ],
   "execution_count": 78
  },
  {
   "metadata": {},
   "cell_type": "markdown",
   "source": "**Баланс**",
   "id": "21729a567e8309a0"
  },
  {
   "metadata": {
    "ExecuteTime": {
     "end_time": "2024-10-25T19:07:10.545937Z",
     "start_time": "2024-10-25T19:07:10.539908Z"
    }
   },
   "cell_type": "code",
   "source": [
    "Pir = 0\n",
    "Pie = 0\n",
    "for i in range(6):\n",
    "    Pir += C[i]**2 * R[i]\n",
    "    Pie += C[i] * E[i]\n",
    "    \n",
    "print(\"Баланс мощностей\\nPпотр   Pист  delta\")\n",
    "print(round(Pir, 4), round(Pie, 4), round(delta(Pie, Pir), 4))"
   ],
   "id": "b235c1597479514",
   "outputs": [
    {
     "name": "stdout",
     "output_type": "stream",
     "text": [
      "Баланс мощностей\n",
      "Pпотр   Pист  delta\n",
      "0.5609 0.5609 0.0\n"
     ]
    }
   ],
   "execution_count": 79
  },
  {
   "metadata": {
    "ExecuteTime": {
     "end_time": "2024-10-25T19:07:10.594773Z",
     "start_time": "2024-10-25T19:07:10.587511Z"
    }
   },
   "cell_type": "code",
   "source": [
    "D = np.array([\n",
    "    [R[0] + R[1] + R[3], -R[1], -R[3]],\n",
    "    [-R[1], R[1] + R[2] + R[4], -R[4]],\n",
    "    [-R[3], -R[4], R[3] + R[4] + R[5]]\n",
    "])\n",
    "E = np.array([\n",
    "    -E[0] - E[1] - E[3],\n",
    "    E[1] - E[2] - E[4],\n",
    "    E[3] + E[4] - E[5]\n",
    "])\n",
    "\n",
    "F = np.linalg.solve(D, E)\n",
    "for i in range(3):\n",
    "    print(f\"I{i+1}{i+1} = {round(F[i], 4)}\")\n",
    "G = np.array([\n",
    "    -F[0],\n",
    "    -F[0] + F[1],\n",
    "    -F[1],\n",
    "    -F[0] + F[2],\n",
    "    -F[1] + F[2],\n",
    "    -F[2]\n",
    "])\n",
    "print(\"-\"*50)\n",
    "for i in range(6):\n",
    "    print(f\"I{i+1} = {round(G[i], 4)}\")"
   ],
   "id": "ebb13fc952b78056",
   "outputs": [
    {
     "name": "stdout",
     "output_type": "stream",
     "text": [
      "I11 = -0.0468\n",
      "I22 = -0.0157\n",
      "I33 = 0.0065\n",
      "--------------------------------------------------\n",
      "I1 = 0.0468\n",
      "I2 = 0.0312\n",
      "I3 = 0.0157\n",
      "I4 = 0.0534\n",
      "I5 = 0.0222\n",
      "I6 = -0.0065\n"
     ]
    }
   ],
   "execution_count": 80
  }
 ],
 "metadata": {
  "kernelspec": {
   "display_name": "Python 3",
   "language": "python",
   "name": "python3"
  },
  "language_info": {
   "codemirror_mode": {
    "name": "ipython",
    "version": 2
   },
   "file_extension": ".py",
   "mimetype": "text/x-python",
   "name": "python",
   "nbconvert_exporter": "python",
   "pygments_lexer": "ipython2",
   "version": "2.7.6"
  }
 },
 "nbformat": 4,
 "nbformat_minor": 5
}
