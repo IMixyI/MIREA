{
 "cells": [
  {
   "metadata": {
    "ExecuteTime": {
     "end_time": "2024-11-22T08:42:10.685712Z",
     "start_time": "2024-11-22T08:42:10.680775Z"
    }
   },
   "cell_type": "code",
   "source": [
    "def print_array(arr):\n",
    "    for i in arr:\n",
    "        print(round(i, 4), end=\" \")\n",
    "    print()\n",
    "\n",
    "def delta(p_ist, p_potr):\n",
    "    return abs(p_ist - p_potr)/p_ist\n",
    "\n",
    "def print_2d_array(arr):\n",
    "    for i in arr:\n",
    "        s = \"\"\n",
    "        for j in i:\n",
    "            s += str(round(j, 4)) + \" \"\n",
    "        print(s)"
   ],
   "id": "abb8e8594f1b85ef",
   "outputs": [],
   "execution_count": 101
  },
  {
   "metadata": {},
   "cell_type": "markdown",
   "source": "**Впишите сюда свои данные**",
   "id": "c9800fa6b626a31f"
  },
  {
   "metadata": {
    "ExecuteTime": {
     "end_time": "2024-11-22T08:42:10.705666Z",
     "start_time": "2024-11-22T08:42:10.692723Z"
    }
   },
   "cell_type": "code",
   "source": [
    "import numpy as np\n",
    "R = np.zeros(6)\n",
    "# decrement index!!!\n",
    "R[0] = 73\n",
    "R[1] = 84\n",
    "R[2] = 58\n",
    "R[3] = 93\n",
    "R[4] = 77\n",
    "R[5] = 50\n",
    "\n",
    "E = np.zeros(6)\n",
    "# decrement index!!!!!\n",
    "E[3] = 11\n",
    "E[5] = 4"
   ],
   "id": "a18e5d17958ca508",
   "outputs": [],
   "execution_count": 102
  },
  {
   "metadata": {},
   "cell_type": "markdown",
   "source": "# ПЕРВАЯ ЧАСТЬ ПЕРВОГО ДЗ",
   "id": "5646acbf1361cb0b"
  },
  {
   "metadata": {},
   "cell_type": "markdown",
   "source": "**Кирхгоф**",
   "id": "fd57de6dfc811419"
  },
  {
   "metadata": {
    "ExecuteTime": {
     "end_time": "2024-11-22T08:42:10.725836Z",
     "start_time": "2024-11-22T08:42:10.719551Z"
    }
   },
   "cell_type": "code",
   "source": [
    "A = np.array([\n",
    "    [1, 0, 0, 1, 0, 1],\n",
    "    [1, 1, 1, 0, 0, 0],\n",
    "    [0, 0, 1, 0, -1, -1],\n",
    "    [R[0], -R[1], 0, -R[3], 0, 0],\n",
    "    [0, R[1], -R[2], 0, -R[4], 0],\n",
    "    [0, 0, 0, R[3], R[4], -R[5]]\n",
    "])\n",
    "B = np.array([\n",
    "    0,\n",
    "    0,\n",
    "    0,\n",
    "    E[0] - E[1] - E[3],\n",
    "    E[1] - E[2] - E[4],\n",
    "    E[3] + E[4] - E[5]\n",
    "])\n",
    "C = np.linalg.solve(A, B)\n",
    "print(\"Ваши токи\")\n",
    "for i in range(6):\n",
    "    print(f\"I{i+1} = {round(C[i],4)}\")"
   ],
   "id": "843db1f7a1258886",
   "outputs": [
    {
     "name": "stdout",
     "output_type": "stream",
     "text": [
      "Ваши токи\n",
      "I1 = -0.0468\n",
      "I2 = 0.0312\n",
      "I3 = 0.0157\n",
      "I4 = 0.0534\n",
      "I5 = 0.0222\n",
      "I6 = -0.0065\n"
     ]
    }
   ],
   "execution_count": 103
  },
  {
   "metadata": {},
   "cell_type": "markdown",
   "source": "**Баланс**",
   "id": "21729a567e8309a0"
  },
  {
   "metadata": {
    "ExecuteTime": {
     "end_time": "2024-11-22T08:42:10.760975Z",
     "start_time": "2024-11-22T08:42:10.755994Z"
    }
   },
   "cell_type": "code",
   "source": [
    "Pir = 0\n",
    "Pie = 0\n",
    "for i in range(6):\n",
    "    Pir += C[i]**2 * R[i]\n",
    "    Pie += C[i] * E[i]\n",
    "    \n",
    "print(\"Баланс мощностей\\nPпотр   Pист  delta\")\n",
    "print(round(Pir, 4), round(Pie, 4), round(delta(Pie, Pir), 4))"
   ],
   "id": "b235c1597479514",
   "outputs": [
    {
     "name": "stdout",
     "output_type": "stream",
     "text": [
      "Баланс мощностей\n",
      "Pпотр   Pист  delta\n",
      "0.5609 0.5609 0.0\n"
     ]
    }
   ],
   "execution_count": 104
  },
  {
   "metadata": {
    "ExecuteTime": {
     "end_time": "2024-11-22T08:42:10.810979Z",
     "start_time": "2024-11-22T08:42:10.803431Z"
    }
   },
   "cell_type": "code",
   "source": [
    "D = np.array([\n",
    "    [R[0] + R[1] + R[3], -R[1], -R[3]],\n",
    "    [-R[1], R[1] + R[2] + R[4], -R[4]],\n",
    "    [-R[3], -R[4], R[3] + R[4] + R[5]]\n",
    "])\n",
    "E_1 = np.array([\n",
    "    -E[0] - E[1] - E[3],\n",
    "    E[1] - E[2] - E[4],\n",
    "    E[3] + E[4] - E[5]\n",
    "])\n",
    "\n",
    "F = np.linalg.solve(D, E_1)\n",
    "for i in range(3):\n",
    "    print(f\"I{i+1}{i+1} = {round(F[i], 4)}\")\n",
    "G = np.array([\n",
    "    F[0],\n",
    "    -F[0] + F[1],\n",
    "    -F[1],\n",
    "    -F[0] + F[2],\n",
    "    -F[1] + F[2],\n",
    "    -F[2]\n",
    "])\n",
    "print(\"-\"*50)\n",
    "for i in range(6):\n",
    "    print(f\"I{i+1} = {round(G[i], 4)}\")"
   ],
   "id": "ebb13fc952b78056",
   "outputs": [
    {
     "name": "stdout",
     "output_type": "stream",
     "text": [
      "I11 = -0.0468\n",
      "I22 = -0.0157\n",
      "I33 = 0.0065\n",
      "--------------------------------------------------\n",
      "I1 = -0.0468\n",
      "I2 = 0.0312\n",
      "I3 = 0.0157\n",
      "I4 = 0.0534\n",
      "I5 = 0.0222\n",
      "I6 = -0.0065\n"
     ]
    }
   ],
   "execution_count": 105
  },
  {
   "metadata": {
    "ExecuteTime": {
     "end_time": "2024-11-22T08:42:10.860134Z",
     "start_time": "2024-11-22T08:42:10.855378Z"
    }
   },
   "cell_type": "code",
   "source": [
    "# Очистка имен и сохранение только важных\n",
    "Kirchhoff = C\n",
    "MKT = G\n",
    "del A, B, C, D, E_1, F, G "
   ],
   "id": "c3a96d319d4c35a7",
   "outputs": [],
   "execution_count": 106
  },
  {
   "metadata": {},
   "cell_type": "markdown",
   "source": "# ВТОРАЯ ЧАСТЬ ПЕРВОГО ДЗ",
   "id": "fe6ae3e05c9ac4de"
  },
  {
   "metadata": {
    "ExecuteTime": {
     "end_time": "2024-11-22T08:42:10.896515Z",
     "start_time": "2024-11-22T08:42:10.891478Z"
    }
   },
   "cell_type": "code",
   "source": [
    "def print_i(arr):\n",
    "    print(\"-\"*49)\n",
    "    for curr_i_num in range(6):\n",
    "        print(f\"I{curr_i_num + 1} = {round(arr[curr_i_num], 4)}\")"
   ],
   "id": "2d40f18e6b4af805",
   "outputs": [],
   "execution_count": 107
  },
  {
   "metadata": {
    "ExecuteTime": {
     "end_time": "2024-11-22T08:42:10.923591Z",
     "start_time": "2024-11-22T08:42:10.916252Z"
    }
   },
   "cell_type": "code",
   "source": [
    "G = np.zeros(6)\n",
    "for i in range(6):\n",
    "    G[i] = 1 / R[i]\n",
    "\n",
    "A = np.array([\n",
    "    [G[0] + G[3] + G[5], -G[0], -G[5]],\n",
    "    [-G[0], G[0] + G[1] + G[2], -G[2]],\n",
    "    [-G[5], -G[2], G[2] + G[4] + G[5]]\n",
    "])\n",
    "\n",
    "B = np.array([\n",
    "    -E[3]/R[3] - E[5]/R[5],\n",
    "    0,\n",
    "    E[5]/R[5]\n",
    "])\n",
    "\n",
    "C = np.linalg.solve(A, B)\n",
    "Phi = C.tolist()\n",
    "print(\"Матрица проводимости\")\n",
    "print_2d_array(A)\n",
    "print(\"Матрица ЭДС\")\n",
    "print_array(B)\n",
    "print(\"Матрица потенциалов\")\n",
    "print_array(C)"
   ],
   "id": "84da6e1d68489cd1",
   "outputs": [
    {
     "name": "stdout",
     "output_type": "stream",
     "text": [
      "Матрица проводимости\n",
      "0.0445 -0.0137 -0.02 \n",
      "-0.0137 0.0428 -0.0172 \n",
      "-0.02 -0.0172 0.0502 \n",
      "Матрица ЭДС\n",
      "-0.1983 0.0 0.08 \n",
      "Матрица потенциалов\n",
      "-6.0366 -2.618 -1.7096 \n"
     ]
    }
   ],
   "execution_count": 108
  },
  {
   "metadata": {
    "ExecuteTime": {
     "end_time": "2024-11-22T08:42:10.969111Z",
     "start_time": "2024-11-22T08:42:10.963835Z"
    }
   },
   "cell_type": "code",
   "source": [
    "D = np.array([\n",
    "    (C[0] - C[1]) / R[0],\n",
    "    -C[1] / R[1],\n",
    "    (-C[1] + C[2]) / R[2],\n",
    "    (C[0] + E[3]) / R[3],\n",
    "    -C[2] / R[4],\n",
    "    (C[0] - C[2] + E[5]) / R[5]\n",
    "])\n",
    "\n",
    "print_i(D)\n",
    "MUP = D"
   ],
   "id": "4a85c5e9d5a8b014",
   "outputs": [
    {
     "name": "stdout",
     "output_type": "stream",
     "text": [
      "-------------------------------------------------\n",
      "I1 = -0.0468\n",
      "I2 = 0.0312\n",
      "I3 = 0.0157\n",
      "I4 = 0.0534\n",
      "I5 = 0.0222\n",
      "I6 = -0.0065\n"
     ]
    }
   ],
   "execution_count": 109
  },
  {
   "metadata": {},
   "cell_type": "markdown",
   "source": "# РЕЗУЛЬТАТЫ РАСЧЁТОВ ПУНКТОВ 1, 2 И 3 СВЕСТИ В ТАБЛИЦУ",
   "id": "9dd0cf83aaa08a74"
  },
  {
   "metadata": {
    "ExecuteTime": {
     "end_time": "2024-11-22T08:42:11.025156Z",
     "start_time": "2024-11-22T08:42:11.019542Z"
    }
   },
   "cell_type": "code",
   "source": [
    "def round_array(arr, num=4):\n",
    "    return np.array([round(arr[i], num) for i in range(len(arr))])\n",
    "\n",
    "\n",
    "Kirchhoff = round_array(Kirchhoff, 4)\n",
    "MKT = round_array(MKT, 4)\n",
    "MUP = round_array(MUP, 4)"
   ],
   "id": "ed00564f03c1b2d0",
   "outputs": [],
   "execution_count": 110
  },
  {
   "metadata": {
    "ExecuteTime": {
     "end_time": "2024-11-22T08:42:11.056944Z",
     "start_time": "2024-11-22T08:42:11.051840Z"
    }
   },
   "cell_type": "code",
   "source": [
    "print(\"Метод      I1     I2     I3     I4     I5      I6\")\n",
    "print(\"Кирхгоф \", *Kirchhoff,sep=\" \")\n",
    "print(\"МКТ    \", *MKT)\n",
    "print(\"МУП    \", *MUP)"
   ],
   "id": "4e60e6439934bddc",
   "outputs": [
    {
     "name": "stdout",
     "output_type": "stream",
     "text": [
      "Метод      I1     I2     I3     I4     I5      I6\n",
      "Кирхгоф  -0.0468 0.0312 0.0157 0.0534 0.0222 -0.0065\n",
      "МКТ     -0.0468 0.0312 0.0157 0.0534 0.0222 -0.0065\n",
      "МУП     -0.0468 0.0312 0.0157 0.0534 0.0222 -0.0065\n"
     ]
    }
   ],
   "execution_count": 111
  },
  {
   "metadata": {
    "ExecuteTime": {
     "end_time": "2024-11-22T08:42:11.110359Z",
     "start_time": "2024-11-22T08:42:11.105688Z"
    }
   },
   "cell_type": "code",
   "source": [
    "I = Kirchhoff.tolist()\n",
    "del Kirchhoff, MKT, MUP, A, B, C, D"
   ],
   "id": "168daab50b657e6a",
   "outputs": [],
   "execution_count": 112
  },
  {
   "metadata": {},
   "cell_type": "markdown",
   "source": [
    "ОПРЕДЕЛИТЬ ТОК I1 МЕТОДОМ ЭКВИВАЛЕНТНОГО ГЕНЕРАТОРА\n",
    "-"
   ],
   "id": "a2f76b797b373838"
  },
  {
   "metadata": {
    "ExecuteTime": {
     "end_time": "2024-11-22T08:42:11.165097Z",
     "start_time": "2024-11-22T08:42:11.157167Z"
    }
   },
   "cell_type": "code",
   "source": [
    "Rb = R[1] * R[2] / (R[1] + R[2] + R[4])\n",
    "Rc = R[2] * R[4] / (R[1] + R[2] + R[4])\n",
    "Rd = R[1] * R[4] / (R[1] + R[2] + R[4])\n",
    "\n",
    "Rb = round(Rb, 4)\n",
    "Rc = round(Rc, 4)\n",
    "Rd = round(Rd, 4)\n",
    "print(f\"Rb = {Rb}, Rc = {Rc}, Rd = {Rd}\")\n",
    "Rd4 = Rd + R[3]\n",
    "Rc6 = Rc + R[5]\n",
    "Rd4c6 = Rd4 * Rc6 / (Rd4 + Rc6)\n",
    "Rab = Rb + Rd4c6\n",
    "\n",
    "Rd4 = round(Rd4, 4)\n",
    "Rc6 = round(Rc6, 4)\n",
    "Rd4c6 = round(Rd4c6, 4)\n",
    "Rab = round(Rab, 4)\n",
    "\n",
    "print(f\"Rd4 = {Rd4}, Rc6 = {Rc6}, Rd4c6 = {Rd4c6}\")\n",
    "print(f\"Rab = {Rab}\")\n",
    "\n",
    "Udc = ((E[3] - E[5]) / (R[3] + R[5])) / (1 / (R[3] + R[5]) + 1 / R[4] + 1 / (R[1] + R[2]))\n",
    "Udc = round(Udc, 4)\n",
    "Ia = (E[3] - E[5] - Udc) / (R[3] + R[5])\n",
    "Ib = Udc / (R[1] + R[2])\n",
    "Ia = round(Ia, 4)\n",
    "Ib = round(Ib, 4)\n",
    "print(f\"Udc = {Udc}, Ia = {Ia}, Ib = {Ib}\")"
   ],
   "id": "675e8ff83e9d89ca",
   "outputs": [
    {
     "name": "stdout",
     "output_type": "stream",
     "text": [
      "Rb = 22.2466, Rc = 20.3927, Rd = 29.5342\n",
      "Rd4 = 122.5342, Rc6 = 70.3927, Rd4c6 = 44.7087\n",
      "Rab = 66.9553\n",
      "Udc = 1.8115, Ia = 0.0363, Ib = 0.0128\n"
     ]
    }
   ],
   "execution_count": 113
  },
  {
   "metadata": {
    "ExecuteTime": {
     "end_time": "2024-11-22T08:42:11.281552Z",
     "start_time": "2024-11-22T08:42:11.276205Z"
    }
   },
   "cell_type": "code",
   "source": [
    "E_inside = R[1] * Ib + R[3] * Ia - E[3]\n",
    "I1 = E_inside / (R[0] + Rab)\n",
    "I1 = round(I1, 4)\n",
    "print(f\"E_inside = {E_inside}, I1 = {I1}\")"
   ],
   "id": "4b64795053d00a35",
   "outputs": [
    {
     "name": "stdout",
     "output_type": "stream",
     "text": [
      "E_inside = -6.5489, I1 = -0.0468\n"
     ]
    }
   ],
   "execution_count": 114
  },
  {
   "metadata": {},
   "cell_type": "markdown",
   "source": [
    "НАЧЕРТИТЬ ПОТЕНЦИАЛЬНУЮ ДИАГРАММУ ДЛЯ ЛЮБОГО ЗАМКНУТОГО КОНТУРА, ВКЛЮЧАЮЩЕГО ОБЕ ЭДС\n",
    "-"
   ],
   "id": "36817e18829b686f"
  },
  {
   "metadata": {
    "ExecuteTime": {
     "end_time": "2024-11-22T09:04:57.163660Z",
     "start_time": "2024-11-22T09:04:57.158148Z"
    }
   },
   "cell_type": "code",
   "source": [
    "print(\"Тут уже самому надо\")\n",
    "# Для моего варианта\n",
    "\n",
    "Phi = round_array(Phi, 4)\n",
    "Phi_m_1 = Phi[0] - R[3] * I[3]\n",
    "Phi_m_2 = 0 - E[3]\n",
    "\n",
    "Phi_n_1 = Phi[0] - R[5] * I[5]\n",
    "Phi_n_2 = Phi[2] - E[5]\n",
    "print(Phi[0], Phi_m_1, Phi_m_2, 0, Phi_n_1, Phi_n_2, Phi[2])"
   ],
   "id": "98e5f141f76f42ff",
   "outputs": [
    {
     "name": "stdout",
     "output_type": "stream",
     "text": [
      "Тут уже самому надо\n",
      "-6.0366 -11.0028 -11.0 0 -5.7116 -5.7096 -1.7096\n"
     ]
    }
   ],
   "execution_count": 117
  },
  {
   "metadata": {
    "ExecuteTime": {
     "end_time": "2024-11-22T08:42:11.470418Z",
     "start_time": "2024-11-22T08:42:11.466870Z"
    }
   },
   "cell_type": "code",
   "source": "",
   "id": "7aa6dfd29d376327",
   "outputs": [],
   "execution_count": null
  }
 ],
 "metadata": {
  "kernelspec": {
   "display_name": "Python 3",
   "language": "python",
   "name": "python3"
  },
  "language_info": {
   "codemirror_mode": {
    "name": "ipython",
    "version": 2
   },
   "file_extension": ".py",
   "mimetype": "text/x-python",
   "name": "python",
   "nbconvert_exporter": "python",
   "pygments_lexer": "ipython2",
   "version": "2.7.6"
  }
 },
 "nbformat": 4,
 "nbformat_minor": 5
}
