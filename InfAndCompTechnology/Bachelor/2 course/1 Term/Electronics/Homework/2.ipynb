{
 "cells": [
  {
   "metadata": {},
   "cell_type": "markdown",
   "source": "# ДР 2 \"Расчёт электрической цепи однофазного синусоидального тока\"",
   "id": "d03f90de3a0934c1"
  },
  {
   "cell_type": "code",
   "id": "initial_id",
   "metadata": {
    "collapsed": true,
    "ExecuteTime": {
     "end_time": "2024-12-11T18:38:53.662686Z",
     "start_time": "2024-12-11T18:38:53.659227Z"
    }
   },
   "source": [
    "import numpy as np\n",
    "import math\n",
    "\n",
    "\n",
    "R = np.zeros(3)\n",
    "L = np.zeros(6)\n",
    "C = np.zeros(6)\n",
    "Em = np.zeros(6)\n",
    "F = np.zeros(6)"
   ],
   "outputs": [],
   "execution_count": 22
  },
  {
   "metadata": {},
   "cell_type": "markdown",
   "source": "# Введите свои данные",
   "id": "54e4e5ca5ed428a6"
  },
  {
   "metadata": {
    "ExecuteTime": {
     "end_time": "2024-12-11T18:38:53.679708Z",
     "start_time": "2024-12-11T18:38:53.676205Z"
    }
   },
   "cell_type": "code",
   "source": [
    "R[1] = 20\n",
    "\n",
    "L[2] = 0.45\n",
    "L[3] = 0.56\n",
    "\n",
    "C[0] = 60\n",
    "\n",
    "Em[0] = 66\n",
    "Em[5] = 82\n",
    "\n",
    "F[0] = 80\n",
    "F[5] = 210\n",
    "\n",
    "f = 48"
   ],
   "id": "118ea1cba3f0042f",
   "outputs": [],
   "execution_count": 23
  },
  {
   "metadata": {},
   "cell_type": "markdown",
   "source": "# Подготовка данных",
   "id": "539a978333372465"
  },
  {
   "metadata": {
    "ExecuteTime": {
     "end_time": "2024-12-11T18:38:53.712151Z",
     "start_time": "2024-12-11T18:38:53.707917Z"
    }
   },
   "cell_type": "code",
   "source": [
    "C /= 1e6\n",
    "\n",
    "digits = 4"
   ],
   "id": "b5738a7d1bc1f5d9",
   "outputs": [],
   "execution_count": 24
  },
  {
   "metadata": {
    "ExecuteTime": {
     "end_time": "2024-12-11T18:38:53.719158Z",
     "start_time": "2024-12-11T18:38:53.713159Z"
    }
   },
   "cell_type": "code",
   "source": [
    "E = Em / 2**0.5\n",
    "E = np.round(E,digits)\n",
    "def complex_e(e, alpha, num):\n",
    "    Re = round(e * math.cos(math.radians(alpha)), digits)\n",
    "    Im = round(e * math.sin(math.radians(alpha)), digits)\n",
    "    print(f\"Re{num}=E{num}*cos(phi{num})={e}*cos({alpha})={Re}\")\n",
    "    print(f\"Im{num}=E{num}*sin(phi{num})={e}*sin({alpha})={Im}\")\n",
    "    print(f\"E{num}={Re} + j{Im}={e}e^j{alpha}\")\n",
    "\n",
    "for i in range(0,6):\n",
    "    if E[i] != 0:\n",
    "        print(f\"E{i+1}={Em[i]}/sqrt(2)={E[i]}\")\n",
    "        complex_e(E[i], F[i], i+1)\n",
    "        print()"
   ],
   "id": "d0d1eef8f3d41eb3",
   "outputs": [
    {
     "name": "stdout",
     "output_type": "stream",
     "text": [
      "E1=66.0/sqrt(2)=46.669\n",
      "Re1=E1*cos(phi1)=46.669*cos(80.0)=8.104\n",
      "Im1=E1*sin(phi1)=46.669*sin(80.0)=45.96\n",
      "E1=8.104 + j45.96=46.669e^j80.0\n",
      "\n",
      "E6=82.0/sqrt(2)=57.9828\n",
      "Re6=E6*cos(phi6)=57.9828*cos(210.0)=-50.2146\n",
      "Im6=E6*sin(phi6)=57.9828*sin(210.0)=-28.9914\n",
      "E6=-50.2146 + j-28.9914=57.9828e^j210.0\n",
      "\n"
     ]
    }
   ],
   "execution_count": 25
  },
  {
   "metadata": {},
   "cell_type": "code",
   "outputs": [],
   "execution_count": null,
   "source": "",
   "id": "94385c94489a2159"
  }
 ],
 "metadata": {
  "kernelspec": {
   "display_name": "Python 3",
   "language": "python",
   "name": "python3"
  },
  "language_info": {
   "codemirror_mode": {
    "name": "ipython",
    "version": 2
   },
   "file_extension": ".py",
   "mimetype": "text/x-python",
   "name": "python",
   "nbconvert_exporter": "python",
   "pygments_lexer": "ipython2",
   "version": "2.7.6"
  }
 },
 "nbformat": 4,
 "nbformat_minor": 5
}
