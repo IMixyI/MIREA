{
 "cells": [
  {
   "metadata": {
    "ExecuteTime": {
     "end_time": "2024-12-18T08:07:47.083215Z",
     "start_time": "2024-12-18T08:07:47.080384Z"
    }
   },
   "cell_type": "code",
   "source": "",
   "id": "335431af589969fd",
   "outputs": [],
   "execution_count": null
  },
  {
   "metadata": {},
   "cell_type": "markdown",
   "source": "# ДР 2 \"Расчёт электрической цепи однофазного синусоидального тока\"",
   "id": "d03f90de3a0934c1"
  },
  {
   "cell_type": "code",
   "id": "initial_id",
   "metadata": {
    "collapsed": true,
    "ExecuteTime": {
     "end_time": "2024-12-18T08:07:47.102255Z",
     "start_time": "2024-12-18T08:07:47.098748Z"
    }
   },
   "source": [
    "import numpy as np\n",
    "import math\n",
    "\n",
    "\n",
    "R = np.zeros(3)\n",
    "L = np.zeros(6)\n",
    "C = np.zeros(6)\n",
    "Em = np.zeros(6)\n",
    "F = np.zeros(6)"
   ],
   "outputs": [],
   "execution_count": 395
  },
  {
   "metadata": {},
   "cell_type": "markdown",
   "source": "# Введите свои данные",
   "id": "54e4e5ca5ed428a6"
  },
  {
   "metadata": {
    "ExecuteTime": {
     "end_time": "2024-12-18T08:07:47.119334Z",
     "start_time": "2024-12-18T08:07:47.115334Z"
    }
   },
   "cell_type": "code",
   "source": [
    "#\"\"\"\n",
    "R[1] = 20\n",
    "\n",
    "L[2] = 0.45\n",
    "L[3] = 0.56\n",
    "\n",
    "C[0] = 60\n",
    "\n",
    "Em[0] = 66\n",
    "Em[5] = 82\n",
    "\n",
    "F[0] = 80\n",
    "F[5] = 210\n",
    "\n",
    "f = 48\n",
    "\"\"\"\n",
    "R[0] = 42\n",
    "\n",
    "L[1] = 0.59\n",
    "L[3] = 0.4\n",
    "\n",
    "C[2] = 76\n",
    "\n",
    "Em[0] = 51\n",
    "Em[2] = 99\n",
    "\n",
    "F[0] = 70\n",
    "F[2] = 200\n",
    "\n",
    "f = 63\n",
    "\"d\"\"\n",
    "R[1] = 10\n",
    "\n",
    "L[2] = 0.57\n",
    "\n",
    "C[0] = 72\n",
    "C[4] = 53\n",
    "\n",
    "Em[3] = 97\n",
    "Em[5] = 91\n",
    "\n",
    "F[3] = 110\n",
    "F[5] = 200\n",
    "\n",
    "f = 41\n",
    "\"\"\""
   ],
   "id": "118ea1cba3f0042f",
   "outputs": [
    {
     "data": {
      "text/plain": [
       "'\\nR[0] = 42\\n\\nL[1] = 0.59\\nL[3] = 0.4\\n\\nC[2] = 76\\n\\nEm[0] = 51\\nEm[2] = 99\\n\\nF[0] = 70\\nF[2] = 200\\n\\nf = 63\\n\"d\"\"\\nR[1] = 10\\n\\nL[2] = 0.57\\n\\nC[0] = 72\\nC[4] = 53\\n\\nEm[3] = 97\\nEm[5] = 91\\n\\nF[3] = 110\\nF[5] = 200\\n\\nf = 41\\n'"
      ]
     },
     "execution_count": 396,
     "metadata": {},
     "output_type": "execute_result"
    }
   ],
   "execution_count": 396
  },
  {
   "metadata": {},
   "cell_type": "markdown",
   "source": "# Подготовка данных",
   "id": "539a978333372465"
  },
  {
   "metadata": {
    "ExecuteTime": {
     "end_time": "2024-12-18T08:07:47.164324Z",
     "start_time": "2024-12-18T08:07:47.161424Z"
    }
   },
   "cell_type": "code",
   "source": [
    "C /= 1e6\n",
    "\n",
    "digits = 2\n",
    "w = 2 * 3.14159 * f\n",
    "w = round(w, digits)"
   ],
   "id": "b5738a7d1bc1f5d9",
   "outputs": [],
   "execution_count": 397
  },
  {
   "metadata": {
    "ExecuteTime": {
     "end_time": "2024-12-18T08:07:47.173767Z",
     "start_time": "2024-12-18T08:07:47.168833Z"
    }
   },
   "cell_type": "code",
   "source": [
    "def print_complex(full, re, im, alpha, index, name=\"Value\"):\n",
    "    print(f\"{name}{index}={re} + j{im} = {full}*e^j{alpha}\")\n",
    "\n",
    "def to_algebraic(absolute, alpha):\n",
    "    new_alpha = math.radians(alpha)\n",
    "    Re = absolute*math.cos(new_alpha)\n",
    "    Im = absolute*math.sin(new_alpha)\n",
    "    return Re, Im\n",
    "\n",
    "def to_exponential(re, im):\n",
    "    re = 1e-8 if re == 0 else re\n",
    "    alpha = math.atan(im/re)\n",
    "    if re < 0:\n",
    "        alpha += math.pi\n",
    "    absolute = (re**2 + im**2)**0.5\n",
    "    alpha = math.degrees(alpha)\n",
    "    return absolute, alpha\n"
   ],
   "id": "686502deb887bdb9",
   "outputs": [],
   "execution_count": 398
  },
  {
   "metadata": {
    "ExecuteTime": {
     "end_time": "2024-12-18T08:07:47.188250Z",
     "start_time": "2024-12-18T08:07:47.182784Z"
    }
   },
   "cell_type": "code",
   "source": [
    "E = np.zeros((3, 4))\n",
    "for i in range(3):\n",
    "    E[i][0] = (Em[i] + Em[i+3]) / 2**0.5\n",
    "E = np.round(E,digits)\n",
    "    \n",
    "\n",
    "for i in range(0,3):\n",
    "    if E[i][0] != 0:\n",
    "        print(f\"E{i+1}={Em[i]+Em[i+3]}/sqrt(2)={E[i][0]}\")\n",
    "        e = E[i][0]\n",
    "        F[i] += F[i+3]\n",
    "        alpha = F[i]\n",
    "        num = i+1\n",
    "        Re, Im = to_algebraic(e, alpha)\n",
    "        print(f\"Re{num}=E{num}*cos(phi{num})={e}*cos({alpha})={Re}\")\n",
    "        print(f\"Im{num}=E{num}*sin(phi{num})={e}*sin({alpha})={Im}\")\n",
    "        print(f\"E{num}={Re} + j{Im}={e}e^j{alpha}\")\n",
    "        print()\n",
    "        E[i][1] = Re\n",
    "        E[i][2] = Im\n",
    "        E[i][3] = alpha\n",
    "        \n",
    "        "
   ],
   "id": "d0d1eef8f3d41eb3",
   "outputs": [
    {
     "name": "stdout",
     "output_type": "stream",
     "text": [
      "E1=66.0/sqrt(2)=46.67\n",
      "Re1=E1*cos(phi1)=46.67*cos(80.0)=8.104160451715643\n",
      "Im1=E1*sin(phi1)=46.67*sin(80.0)=45.96097783307975\n",
      "E1=8.104160451715643 + j45.96097783307975=46.67e^j80.0\n",
      "\n",
      "E3=82.0/sqrt(2)=57.98\n",
      "Re3=E3*cos(phi3)=57.98*cos(210.0)=-50.21215291142175\n",
      "Im3=E3*sin(phi3)=57.98*sin(210.0)=-28.990000000000006\n",
      "E3=-50.21215291142175 + j-28.990000000000006=57.98e^j210.0\n",
      "\n"
     ]
    }
   ],
   "execution_count": 399
  },
  {
   "metadata": {
    "ExecuteTime": {
     "end_time": "2024-12-18T08:07:47.271828Z",
     "start_time": "2024-12-18T08:07:47.266350Z"
    }
   },
   "cell_type": "code",
   "source": [
    "Z = [[0., 0., 0., 0.] for i in range(3)]\n",
    "print(f\"w=2pif=2pi*{f}={w}\")  \n",
    "    \n",
    "for i in range(3):\n",
    "    Z[i][1] = R[i]\n",
    "    xl = round(w*(L[i] + L[3+i]), digits)\n",
    "    xc = 1 / (C[i] + C[3+i]) / w if C[i] + C[3+i] > 0 else 0\n",
    "    xc = round(xc, digits)\n",
    "    Z[i][2] = xl - xc\n",
    "    Z[i][0] = (Z[i][1]**2 + Z[i][2]**2)**0.5\n",
    "    Z[i][0] = round(Z[i][0],digits)\n",
    "    \n",
    "    re = 1e-8 if Z[i][1] == 0 else Z[i][1]\n",
    "    alpha = math.atan(Z[i][2]/re)\n",
    "    alpha = math.degrees(alpha)\n",
    "    Z[i][3] = round(alpha,digits)\n",
    "    if Z[i][1] != 0:\n",
    "        print(f\"R{i+1}={Z[i][1]}\")\n",
    "    if xl != 0:\n",
    "        print(f\"Xl{i+1}={xl}\")\n",
    "    if xc != 0:\n",
    "        print(f\"Xc{i+1}={xc}\")\n",
    "    print_complex(Z[i][0], Z[i][1], Z[i][2], Z[i][3], i + 1, \"Z\")\n",
    "\n",
    "    "
   ],
   "id": "94385c94489a2159",
   "outputs": [
    {
     "name": "stdout",
     "output_type": "stream",
     "text": [
      "w=2pif=2pi*48=301.59\n",
      "Xl1=168.89\n",
      "Xc1=55.26\n",
      "Z1=0.0 + j113.63 = 113.63*e^j90.0\n",
      "R2=20.0\n",
      "Z2=20.0 + j0.0 = 20.0*e^j0.0\n",
      "Xl3=135.72\n",
      "Z3=0.0 + j135.72 = 135.72*e^j90.0\n"
     ]
    }
   ],
   "execution_count": 400
  },
  {
   "metadata": {},
   "cell_type": "markdown",
   "source": "# 2 СОСТАВИТЬ СИСТЕМУ УРАВНЕНИЙ ПО ЗАКОНАМ КИРХГОФА",
   "id": "76e55844f2b10cbf"
  },
  {
   "metadata": {
    "ExecuteTime": {
     "end_time": "2024-12-18T08:07:47.324283Z",
     "start_time": "2024-12-18T08:07:47.320275Z"
    }
   },
   "cell_type": "code",
   "source": [
    "print(\"i1 + i2 + i3 = 0\")\n",
    "print(\"Остальные два сам составляй\")\n",
    "print(\"При желании - сделай тут LaTeX и отправь pull-request, другим будет приятно\")"
   ],
   "id": "c94ac496269707f6",
   "outputs": [
    {
     "name": "stdout",
     "output_type": "stream",
     "text": [
      "i1 + i2 + i3 = 0\n",
      "Остальные два сам составляй\n",
      "При желании - сделай тут LaTeX и отправь pull-request, другим будет приятно\n"
     ]
    }
   ],
   "execution_count": 401
  },
  {
   "metadata": {},
   "cell_type": "markdown",
   "source": "# 3 НАЙТИ ТОКИ В ВЕТВЯХ ",
   "id": "e8b66415e0ee3ed6"
  },
  {
   "metadata": {
    "ExecuteTime": {
     "end_time": "2024-12-18T08:07:47.348191Z",
     "start_time": "2024-12-18T08:07:47.341335Z"
    }
   },
   "cell_type": "code",
   "source": [
    "Uab_up = [0., 0.]\n",
    "\n",
    "print(\"Numerator\")\n",
    "ans = \"\"\n",
    "ans2 = \"\"\n",
    "for i in range(3):\n",
    "    if E[i][0] > 0:\n",
    "        a = E[i][0]/Z[i][0]\n",
    "        b = E[i][3]-Z[i][3]\n",
    "        ans += f\"{E[i][0]:.2f}/{Z[i][0]:.2f} * e^j({E[i][3]:.2f} - {Z[i][3]:.2f}) + \"\n",
    "        temp = to_algebraic(a, b)\n",
    "        if i==1:\n",
    "            temp *= -1\n",
    "        Uab_up[0] += temp[0]\n",
    "        Uab_up[1] += temp[1]\n",
    "        ans2 += f\"{temp[0]:.2f} + j{temp[1]:.2f} + \"\n",
    "print(f\"{ans}={ans2}={Uab_up[0]:.2f} + j{Uab_up[1]:.2f}\")\n",
    "print(\"Denominator\")\n",
    "Uab_down = [0., 0.]\n",
    "ans = \"\"\n",
    "ans2 = \"\"\n",
    "for i in range(3):\n",
    "    if Z[i][0] > 0:\n",
    "        a = 1/Z[i][0]\n",
    "        b = -Z[i][3]\n",
    "        ans += f\"1/{Z[i][0]:.2f} * e^j({-Z[i][3]:.2f}) + \"\n",
    "        temp = to_algebraic(a, b)\n",
    "        Uab_down[0] += temp[0]\n",
    "        Uab_down[1] += temp[1]\n",
    "        ans2 += f\"{temp[0]:.4f} + j{temp[1]:.4f} + \"\n",
    "print(f\"{ans}={ans2}={Uab_down[0]:.4f} + j{Uab_down[1]:.4f}\")\n",
    "Uab_up[0],Uab_up[1] = to_exponential(Uab_up[0], Uab_up[1])\n",
    "Uab_down[0], Uab_down[1] = to_exponential(Uab_down[0], Uab_down[1])\n",
    "temp = [Uab_up[0]/Uab_down[0], Uab_up[1]-Uab_down[1]]\n",
    "print(f\"Uab={Uab_up[0]:.2f}/{Uab_down[0]:.2f} * e^j({Uab_up[1]:.2f} - {Uab_down[1]:.2f})\")\n",
    "temp2 = to_algebraic(temp[0], temp[1])\n",
    "Uab = np.array([temp[0], *temp2, temp[1]])\n",
    "Uab = np.round(Uab,digits)\n",
    "\n",
    "print_complex(Uab[0], Uab[1], Uab[2], Uab[3], \"\", \"Uab\")\n"
   ],
   "id": "6c036a4c43084293",
   "outputs": [
    {
     "name": "stdout",
     "output_type": "stream",
     "text": [
      "Numerator\n",
      "46.67/113.63 * e^j(80.00 - 90.00) + 57.98/135.72 * e^j(210.00 - 90.00) + =0.40 + j-0.07 + -0.21 + j0.37 + =0.19 + j0.30\n",
      "Denominator\n",
      "1/113.63 * e^j(-90.00) + 1/20.00 * e^j(-0.00) + 1/135.72 * e^j(-90.00) + =0.0000 + j-0.0088 + 0.0500 + j-0.0000 + 0.0000 + j-0.0074 + =0.0500 + j-0.0162\n",
      "Uab=0.35/0.05 * e^j(57.42 - -17.92)\n",
      "Uab=1.71 + j6.53 = 6.74*e^j75.34\n"
     ]
    }
   ],
   "execution_count": 402
  },
  {
   "metadata": {
    "ExecuteTime": {
     "end_time": "2024-12-18T08:07:47.399221Z",
     "start_time": "2024-12-18T08:07:47.394847Z"
    }
   },
   "cell_type": "code",
   "source": [
    "I = np.zeros((3, 4))\n",
    "\n",
    "for i in range(3):\n",
    "    ans = f\"I{i+1}=(E{i+1}-Uab)/Z{i+1} = \"\n",
    "    a = E[i][1] - Uab[1]\n",
    "    b = E[i][2] - Uab[2]\n",
    "    ans += (f\"({E[i][1]:.2f} + j{E[i][2]:.2f} - {Uab[1]:.2f} - \"\n",
    "            f\"j{Uab[2]:.2f})/({Z[i][0]}*e^j{Z[i][3]:.2f}) = \")\n",
    "    ans += f\"({a:.2f} + j{b:.2f})/({Z[i][0]:.2f}*e^j{Z[i][3]:.2f}) = \"\n",
    "    a, b = to_exponential(a, b)\n",
    "    I[i][0] = a/Z[i][0]\n",
    "    I[i][3] = b-Z[i][3]\n",
    "    ans += f\"{a:.2f}/{Z[i][0]:.2f} * e^j({b:.2f} - {Z[i][3]:.2f})\"\n",
    "    print(ans)\n",
    "    I[i][1], I[i][2] = to_algebraic(I[i][0], I[i][3])\n",
    "    I = np.round(I,digits)\n",
    "    print_complex(I[i][0], I[i][1], I[i][2], I[i][3], i+1, \"I\")\n"
   ],
   "id": "784e6fa7592c9557",
   "outputs": [
    {
     "name": "stdout",
     "output_type": "stream",
     "text": [
      "I1=(E1-Uab)/Z1 = (8.10 + j45.96 - 1.71 - j6.53)/(113.63*e^j90.00) = (6.39 + j39.43)/(113.63*e^j90.00) = 39.95/113.63 * e^j(80.79 - 90.00)\n",
      "I1=0.35 + j-0.06 = 0.35*e^j-9.21\n",
      "I2=(E2-Uab)/Z2 = (0.00 + j0.00 - 1.71 - j6.53)/(20.0*e^j0.00) = (-1.71 + j-6.53)/(20.00*e^j0.00) = 6.75/20.00 * e^j(255.33 - 0.00)\n",
      "I2=-0.09 + j-0.33 = 0.34*e^j255.33\n",
      "I3=(E3-Uab)/Z3 = (-50.21 + j-28.99 - 1.71 - j6.53)/(135.72*e^j90.00) = (-51.92 + j-35.52)/(135.72*e^j90.00) = 62.91/135.72 * e^j(214.38 - 90.00)\n",
      "I3=-0.26 + j0.38 = 0.46*e^j124.38\n"
     ]
    }
   ],
   "execution_count": 403
  },
  {
   "metadata": {},
   "cell_type": "markdown",
   "source": "# 4 СОСТАВИТЬ БАЛАНС МОЩНОСТЕЙ",
   "id": "f03b68a38011d34c"
  },
  {
   "metadata": {
    "ExecuteTime": {
     "end_time": "2024-12-18T08:07:47.427173Z",
     "start_time": "2024-12-18T08:07:47.421274Z"
    }
   },
   "cell_type": "code",
   "source": [
    "Ss = np.zeros(4)\n",
    "Sc = np.zeros(4)\n",
    "ans11 = \"Ss = \"\n",
    "ans12 = \" = \"\n",
    "ans21 = \"Sc = \"\n",
    "ans22 = \" = \"\n",
    "for i in range(3):\n",
    "    temp = np.zeros(2)\n",
    "    temp[0] = E[i][0] * I[i][0]\n",
    "    temp[1] = E[i][3] - I[i][3]\n",
    "    ans11 += f\"{E[i][0]}*{I[i][0]} * e^j({E[i][3]} + {-I[i][3]}) + \"\n",
    "    temp[0], temp[1] = to_algebraic(*temp)\n",
    "    Ss[1] += temp[0]\n",
    "    Ss[2] += temp[1] \n",
    "    ans12 += f\"{temp[0]:.4f} + j{temp[1]:.4f} + \"\n",
    "    \n",
    "    temp[0] = I[i][0] ** 2 * Z[i][0]\n",
    "    temp[1] = Z[i][3]\n",
    "    ans21 += f\"{I[i][0]}^2 * {Z[i][0]} * e^j{Z[i][3]} + \"\n",
    "    temp[0], temp[1] = to_algebraic(*temp)\n",
    "    Sc[1] += temp[0]\n",
    "    Sc[2] += temp[1]\n",
    "    ans22 += f\"{temp[0]:.4f} + j{temp[1]:.4f} + \"\n",
    "\n",
    "    \n",
    "Ss[0],Ss[3] = to_exponential(Ss[1],Ss[2])    \n",
    "Sc[0],Sc[3] = to_exponential(Sc[1],Sc[2])\n",
    "Sc = np.round(Sc, digits)\n",
    "Ss = np.round(Ss, digits)\n",
    "print(ans11 + ans12)\n",
    "print_complex(*Ss, \"\", \"Ss\")\n",
    "print(ans21 + ans22)\n",
    "print_complex(*Sc, \"\", \"Sc\")\n"
   ],
   "id": "e6f62f497527a53c",
   "outputs": [
    {
     "name": "stdout",
     "output_type": "stream",
     "text": [
      "Ss = 46.67*0.35 * e^j(80.0 + 9.21) + 0.0*0.34 * e^j(0.0 + -255.33) + 57.98*0.46 * e^j(210.0 + -124.38) +  = 0.2252 + j16.3329 + -0.0000 + j0.0000 + 2.0369 + j26.5929 + \n",
      "Ss=2.26 + j42.93 = 42.99*e^j86.98\n",
      "Sc = 0.35^2 * 113.63 * e^j90.0 + 0.34^2 * 20.0 * e^j0.0 + 0.46^2 * 135.72 * e^j90.0 +  = 0.0000 + j13.9197 + 2.3120 + j0.0000 + 0.0000 + j28.7184 + \n",
      "Sc=2.31 + j42.64 = 42.7*e^j86.9\n"
     ]
    }
   ],
   "execution_count": 404
  },
  {
   "metadata": {},
   "cell_type": "markdown",
   "source": "# 5 ОПРЕДЕЛИТЬ ПОКАЗАНИЕ ВАТТМЕТРА",
   "id": "ce36cc5a17a8fbfd"
  },
  {
   "metadata": {
    "ExecuteTime": {
     "end_time": "2024-12-18T08:07:47.456370Z",
     "start_time": "2024-12-18T08:07:47.451944Z"
    }
   },
   "cell_type": "code",
   "source": [
    "S = np.array([\n",
    "    0.,0.,0.,0.\n",
    "])\n",
    "\n",
    "temp = np.zeros(2)\n",
    "temp[0] = Uab[0]*I[0][0]\n",
    "temp[1] = Uab[3] - I[0][3]\n",
    "S[1],S[2] = to_algebraic(*temp)\n",
    "S[0],S[3] = to_exponential(S[1],S[2])\n",
    "\n",
    "S = np.round(S, digits)\n",
    "print(f\"P1=Re(S1)=Re(U*I'1)=Re({Uab[0]}*{I[0][0]} * e^j({Uab[3]} + {-I[0][3]})) \"\n",
    "      f\"= Re({S[1]} + j{S[2]})={S[1]}\")"
   ],
   "id": "ea653da4d00df3f3",
   "outputs": [
    {
     "name": "stdout",
     "output_type": "stream",
     "text": [
      "P1=Re(S1)=Re(U*I'1)=Re(6.74*0.35 * e^j(75.34 + 9.21)) = Re(0.22 + j2.35)=0.22\n"
     ]
    }
   ],
   "execution_count": 405
  },
  {
   "metadata": {
    "ExecuteTime": {
     "end_time": "2024-12-18T08:07:47.545321Z",
     "start_time": "2024-12-18T08:07:47.541810Z"
    }
   },
   "cell_type": "code",
   "source": [
    "print(f\"Uab={Uab[0]}\")\n",
    "print(f\"I1={I[0][0]}\")\n",
    "\n",
    "phi = Uab[3] - I[0][3]\n",
    "print(f\"phi={Uab[3]}-{I[0][3]}={phi:.2f}\")\n",
    "\n",
    "P = Uab[0]*I[0][0]*math.cos(math.radians(phi))\n",
    "print(f\"P1=Uab*I1*cos(phi)={P:.2f}\")"
   ],
   "id": "15d1532f8fedd3ed",
   "outputs": [
    {
     "name": "stdout",
     "output_type": "stream",
     "text": [
      "Uab=6.74\n",
      "I1=0.35\n",
      "phi=75.34--9.21=84.55\n",
      "P1=Uab*I1*cos(phi)=0.22\n"
     ]
    }
   ],
   "execution_count": 406
  }
 ],
 "metadata": {
  "kernelspec": {
   "display_name": "Python 3",
   "language": "python",
   "name": "python3"
  },
  "language_info": {
   "codemirror_mode": {
    "name": "ipython",
    "version": 2
   },
   "file_extension": ".py",
   "mimetype": "text/x-python",
   "name": "python",
   "nbconvert_exporter": "python",
   "pygments_lexer": "ipython2",
   "version": "2.7.6"
  }
 },
 "nbformat": 4,
 "nbformat_minor": 5
}
